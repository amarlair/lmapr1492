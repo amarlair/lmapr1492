{
 "cells": [
  {
   "cell_type": "code",
   "execution_count": 6,
   "id": "canadian-covering",
   "metadata": {},
   "outputs": [],
   "source": [
    "# Marlair Aline\n",
    "#Les 3 opérations de symétries différents ont été trouvée dans le fichier CIF\n",
    "#Les 3 atomes différents sont le sodium(Na),le Niobium (Nb) et l'azote (N).\n",
    "# Choix de l'atome de sodium en  (-0.0, -0.0,  0.5)\n",
    "Na = [-0.0, -0.0,  0.5]\n",
    "Nb = [0.0, 0.0, 0.0]\n",
    "N = [0.0,  0.0, 0.26837200]"
   ]
  },
  {
   "cell_type": "code",
   "execution_count": 7,
   "id": "precious-security",
   "metadata": {},
   "outputs": [],
   "source": [
    "#import\n",
    "from pymatgen.core.operations import *\n",
    "from pymatgen import Structure\n",
    "from pymatgen.ext.matproj import MPRester\n",
    "from pymatgen.io.cif import CifWriter\n",
    "from jupyter_jsmol.pymatgen import quick_view"
   ]
  },
  {
   "cell_type": "code",
   "execution_count": 8,
   "id": "progressive-offset",
   "metadata": {},
   "outputs": [],
   "source": [
    "#Téléchargement du fichier CIF & création de la structure\n",
    "with MPRester(\"VGzmabHyhs7K1L84\") as m:\n",
    "\n",
    "    # Structure for material id\n",
    "    structure = m.get_structure_by_material_id(\"mp-7017\")\n",
    "    w = CifWriter(structure,0.1)\n",
    "    w.write_file('mystructure.cif')"
   ]
  },
  {
   "cell_type": "code",
   "execution_count": 17,
   "id": "african-murder",
   "metadata": {
    "scrolled": true
   },
   "outputs": [
    {
     "name": "stdout",
     "output_type": "stream",
     "text": [
      "La matrice de rotation correspondant à cette opération est : \n",
      " [[1. 0. 0.]\n",
      " [0. 1. 0.]\n",
      " [0. 0. 1.]]\n",
      "Le vecteur de translation correspondant à cette opération est : \n",
      " [2/3, 1/3, 1/3]\n",
      "L'atome de Sodium se retrouve en : [0.66666667 0.33333333 0.83333333]\n",
      "On peut voir le vecteur de translation en jaune sur l'image ci_dessous\n"
     ]
    },
    {
     "data": {
      "application/vnd.jupyter.widget-view+json": {
       "model_id": "a8578e231bc44440809194a40376844d",
       "version_major": 2,
       "version_minor": 0
      },
      "text/plain": [
       "JsmolView(layout=Layout(align_self='stretch', height='400px'))"
      ]
     },
     "metadata": {},
     "output_type": "display_data"
    }
   ],
   "source": [
    "# Première opération de symmétrie sur Na\n",
    "symetrie_1 = SymmOp.from_xyz_string('x+2/3, y+1/3, z+1/3')\n",
    "\n",
    "# Exécution de l'opération de symmétrie\n",
    "\n",
    "Ope_sym_1 = symetrie_1.operate(Na)\n",
    "\n",
    "print(\"La matrice de rotation correspondant à cette opération est : \\n\", symetrie_1.rotation_matrix)\n",
    "print( \"Le vecteur de translation correspondant à cette opération est : \\n [2/3, 1/3, 1/3]\")\n",
    "print(\"L'atome de Sodium se retrouve en :\",Ope_sym_1)\n",
    "\n",
    "#Représentation \n",
    "print(\"On peut voir le vecteur de translation en jaune sur l'image ci_dessous\")\n",
    "st = Structure.from_file(\"mystructure.cif\")\n",
    "view = quick_view(st)\n",
    "display(view)\n",
    "view.script(\"draw symop 13 {atomno = 1}\")\n"
   ]
  },
  {
   "cell_type": "code",
   "execution_count": 20,
   "id": "recovered-theme",
   "metadata": {},
   "outputs": [
    {
     "name": "stdout",
     "output_type": "stream",
     "text": [
      "La matrice de rotation correspondant à cette opération est : \n",
      " [[ 1.  0.  0.]\n",
      " [ 1. -1.  0.]\n",
      " [ 0.  0.  1.]]\n",
      "Le vecteur de translation correspondant à cette opération est : \n",
      " [1/3, 2/3, /3]\n",
      "L'atome de Niobium se retrouve en : [0.33333333 0.66666667 0.66666667]\n",
      "On peut voir le vecteur de translation en jaune ainsi que le plan miroir en bleu sur l'image ci_dessous\n"
     ]
    },
    {
     "data": {
      "application/vnd.jupyter.widget-view+json": {
       "model_id": "91a04b92e5684adca7b0dbf217d6c881",
       "version_major": 2,
       "version_minor": 0
      },
      "text/plain": [
       "JsmolView(layout=Layout(align_self='stretch', height='400px'))"
      ]
     },
     "metadata": {},
     "output_type": "display_data"
    }
   ],
   "source": [
    "# Deuxième opération de symmétrie sur Nb\n",
    "symetrie_2 = SymmOp.from_xyz_string('x+1/3, x-y+2/3, z+2/3')\n",
    "\n",
    "# Exécution de l'opération de symmétrie\n",
    "\n",
    "Ope_sym_2 = symetrie_2.operate(Nb)\n",
    "\n",
    "print(\"La matrice de rotation correspondant à cette opération est : \\n\", symetrie_2.rotation_matrix)\n",
    "print( \"Le vecteur de translation correspondant à cette opération est : \\n [1/3, 2/3, /3]\")\n",
    "print(\"L'atome de Niobium se retrouve en :\",Ope_sym_2)\n",
    "\n",
    "#Représentation \n",
    "print(\"On peut voir le vecteur de translation en jaune ainsi que le plan miroir en bleu sur l'image ci_dessous\")\n",
    "st = Structure.from_file(\"mystructure.cif\")\n",
    "view = quick_view(st)\n",
    "display(view)\n",
    "view.script(\"draw symop 36 {atomno = 2}\")\n",
    "\n"
   ]
  },
  {
   "cell_type": "code",
   "execution_count": 21,
   "id": "linear-armenia",
   "metadata": {},
   "outputs": [
    {
     "name": "stdout",
     "output_type": "stream",
     "text": [
      "La matrice de rotation correspondant à cette opération est : \n",
      " [[-1.  0.  0.]\n",
      " [ 0. -1.  0.]\n",
      " [ 0.  0. -1.]]\n",
      "Le vecteur de translation correspondant à cette opération est : \n",
      " [0, 0, 0]\n",
      "L'atome d' azote se retrouve en : [ 0.        0.       -0.268372]\n",
      "On peut observer l'axe de rotation en bleu clair sur l'image ci-dessous\n"
     ]
    },
    {
     "data": {
      "application/vnd.jupyter.widget-view+json": {
       "model_id": "2aa993960061403ea94f61be546cfaba",
       "version_major": 2,
       "version_minor": 0
      },
      "text/plain": [
       "JsmolView(layout=Layout(align_self='stretch', height='400px'))"
      ]
     },
     "metadata": {},
     "output_type": "display_data"
    }
   ],
   "source": [
    "# Troisième opération de symmétrie sur N \n",
    "symetrie_3 = SymmOp.from_xyz_string('-x, -y, -z')\n",
    "\n",
    "# Exécution de l'opération de symmétrie\n",
    "\n",
    "Ope_sym_3 = symetrie_3.operate(N)\n",
    "\n",
    "print(\"La matrice de rotation correspondant à cette opération est : \\n\", symetrie_3.rotation_matrix)\n",
    "print( \"Le vecteur de translation correspondant à cette opération est : \\n [0, 0, 0]\")\n",
    "print(\"L'atome d' azote se retrouve en :\",Ope_sym_3)\n",
    "\n",
    "#Représentation \n",
    "print(\"On peut observer l'axe de rotation en bleu clair sur l'image ci-dessous\")\n",
    "st = Structure.from_file(\"mystructure.cif\")\n",
    "view = quick_view(st)\n",
    "display(view)\n",
    "view.script(\"draw symop 2 {atomno = 3}\")\n"
   ]
  },
  {
   "cell_type": "code",
   "execution_count": null,
   "id": "imposed-optimization",
   "metadata": {},
   "outputs": [],
   "source": []
  }
 ],
 "metadata": {
  "kernelspec": {
   "display_name": "Python 3",
   "language": "python",
   "name": "python3"
  },
  "language_info": {
   "codemirror_mode": {
    "name": "ipython",
    "version": 3
   },
   "file_extension": ".py",
   "mimetype": "text/x-python",
   "name": "python",
   "nbconvert_exporter": "python",
   "pygments_lexer": "ipython3",
   "version": "3.6.8"
  }
 },
 "nbformat": 4,
 "nbformat_minor": 5
}
