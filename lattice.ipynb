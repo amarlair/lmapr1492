{
 "cells": [
  {
   "cell_type": "code",
   "execution_count": 1,
   "id": "crazy-document",
   "metadata": {},
   "outputs": [],
   "source": [
    "#import\n",
    "\n",
    "from pymatgen import Structure\n",
    "from pymatgen.ext.matproj import MPRester\n",
    "from pymatgen.io.cif import CifWriter\n",
    "from pymatgen.symmetry.analyzer import SpacegroupAnalyzer\n",
    "\n",
    "\n",
    "    \n"
   ]
  },
  {
   "cell_type": "code",
   "execution_count": 2,
   "id": "current-saskatchewan",
   "metadata": {},
   "outputs": [],
   "source": [
    "#création de la structure\n",
    "with MPRester(\"VGzmabHyhs7K1L84\") as m:\n",
    "\n",
    "    # Structure for material id\n",
    "    structure = m.get_structure_by_material_id(\"mp-7017\")\n",
    "    w = CifWriter(structure)\n",
    "    w.write_file('mystructure.cif')"
   ]
  },
  {
   "cell_type": "code",
   "execution_count": 3,
   "id": "comparable-lawsuit",
   "metadata": {},
   "outputs": [
    {
     "data": {
      "text/plain": [
       "Structure Summary\n",
       "Lattice\n",
       "    abc : 6.000458668496684 6.000458668496684 6.000459019975889\n",
       " angles : 30.43658528657143 30.43658528657143 30.436585730966858\n",
       " volume : 49.14358460581434\n",
       "      A : 5.790039 -1.575104 0.0\n",
       "      B : 5.790039 1.575104 0.0\n",
       "      C : 5.361553 0.0 2.694301\n",
       "PeriodicSite: Na (8.4708, 0.0000, 1.3472) [0.5000, 0.5000, 0.5000]\n",
       "PeriodicSite: Nb (0.0000, 0.0000, 0.0000) [0.0000, 0.0000, 0.0000]\n",
       "PeriodicSite: N (12.3950, 0.0000, 1.9712) [0.7316, 0.7316, 0.7316]\n",
       "PeriodicSite: N (4.5467, 0.0000, 0.7231) [0.2684, 0.2684, 0.2684]"
      ]
     },
     "execution_count": 3,
     "metadata": {},
     "output_type": "execute_result"
    }
   ],
   "source": [
    "#représentation de la structure\n",
    "structure"
   ]
  },
  {
   "cell_type": "code",
   "execution_count": 4,
   "id": "owned-peeing",
   "metadata": {},
   "outputs": [
    {
     "name": "stdout",
     "output_type": "stream",
     "text": [
      "Vecteur de base du réseau direct :\n",
      "Norme de a = 6.000458668496684 dont l'angle correspondant est : 30.43658528657143°\n",
      "Norme de b = 6.000458668496684 dont l'angle correspondant est : 30.43658528657143°\n",
      "Norme de c = 6.000459019975889 dont l'angle correspondant est : 30.436585730966858°\n"
     ]
    }
   ],
   "source": [
    "#Vecteurs de base réseau direct\n",
    "lattice = structure.lattice\n",
    "normes = lattice.lengths\n",
    "angles = lattice.angles\n",
    "print(\"Vecteur de base du réseau direct :\")\n",
    "print(\"Norme de a = {} dont l'angle correspondant est : {}°\".format(normes[0], angles[0]))\n",
    "print(\"Norme de b = {} dont l'angle correspondant est : {}°\".format(normes[1], angles[1]))\n",
    "print(\"Norme de c = {} dont l'angle correspondant est : {}°\".format(normes[2], angles[2]))"
   ]
  },
  {
   "cell_type": "code",
   "execution_count": 6,
   "id": "trained-tournament",
   "metadata": {},
   "outputs": [
    {
     "name": "stdout",
     "output_type": "stream",
     "text": [
      "Vecteur de base du réseau réciproque :\n",
      "Norme : a* = 2.3320280815977523 dont l'angle correspondant est: 117.58073170824717°\n",
      "Norme : b* = 2.3320280815977523 dont l'angle correspondant est : 117.58073170824717°\n",
      "Norme : c* = 2.3320279757828044 dont l'angle correspondant est : 117.58073026030344°\n"
     ]
    }
   ],
   "source": [
    "#Vecteurs de base du réseau réciproque\n",
    "normes_reciproque = lattice.reciprocal_lattice.lengths\n",
    "angles_reciproque = lattice.reciprocal_lattice.angles\n",
    "print(\"Vecteur de base du réseau réciproque :\")\n",
    "print(\"Norme : a* = {} dont l'angle correspondant est: {}°\".format(normes_reciproque[0], angles_reciproque[0]))\n",
    "print(\"Norme : b* = {} dont l'angle correspondant est : {}°\".format(normes_reciproque[1], angles_reciproque[1]))\n",
    "print(\"Norme : c* = {} dont l'angle correspondant est : {}°\".format(normes_reciproque[2], angles_reciproque[2]))"
   ]
  },
  {
   "cell_type": "code",
   "execution_count": 7,
   "id": "regulation-mexico",
   "metadata": {},
   "outputs": [],
   "source": [
    "#Analyse de la structure\n",
    "stru = SpacegroupAnalyzer(structure)"
   ]
  },
  {
   "cell_type": "code",
   "execution_count": 12,
   "id": "treated-headset",
   "metadata": {},
   "outputs": [
    {
     "name": "stdout",
     "output_type": "stream",
     "text": [
      "Ce composé à une maille rhombohedral\n"
     ]
    }
   ],
   "source": [
    "#Type de maille\n",
    "maille = stru.get_lattice_type()\n",
    "print(\"Ce composé à une maille {}\".format(maille))"
   ]
  },
  {
   "cell_type": "code",
   "execution_count": 13,
   "id": "lonely-criticism",
   "metadata": {},
   "outputs": [
    {
     "name": "stdout",
     "output_type": "stream",
     "text": [
      "Ce composé à un système cristallin trigonal\n"
     ]
    }
   ],
   "source": [
    "#Système cristallin\n",
    "systeme_cristallin = stru.get_crystal_system()\n",
    "print(\"Ce composé à un système cristallin {}\".format(systeme_cristallin))"
   ]
  },
  {
   "cell_type": "code",
   "execution_count": 14,
   "id": "virgin-affiliation",
   "metadata": {},
   "outputs": [
    {
     "name": "stdout",
     "output_type": "stream",
     "text": [
      "Le groupe ponctuel de ce composé est -3m\n"
     ]
    }
   ],
   "source": [
    "#Groupe ponctuel\n",
    "groupe_ponctuel = stru.get_point_group_symbol()\n",
    "print(\"Le groupe ponctuel de ce composé est {}\".format(groupe_ponctuel))"
   ]
  }
 ],
 "metadata": {
  "kernelspec": {
   "display_name": "Python 3",
   "language": "python",
   "name": "python3"
  },
  "language_info": {
   "codemirror_mode": {
    "name": "ipython",
    "version": 3
   },
   "file_extension": ".py",
   "mimetype": "text/x-python",
   "name": "python",
   "nbconvert_exporter": "python",
   "pygments_lexer": "ipython3",
   "version": "3.6.8"
  }
 },
 "nbformat": 4,
 "nbformat_minor": 5
}
