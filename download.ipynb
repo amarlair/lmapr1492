{
 "cells": [
  {
   "cell_type": "code",
   "execution_count": 10,
   "id": "crazy-document",
   "metadata": {},
   "outputs": [],
   "source": [
    "from pymatgen.ext.matproj import MPRester\n",
    "from pymatgen import Structure\n",
    "from jupyter_jsmol.pymatgen import quick_view\n",
    "from pymatgen.io.cif import CifWriter\n",
    "\n",
    "with MPRester(\"VGzmabHyhs7K1L84\") as m:\n",
    "\n",
    "    # Structure for material id\n",
    "    structure = m.get_structure_by_material_id(\"mp-7017\")\n",
    "    w = CifWriter(structure)\n",
    "    w.write_file('mystructure.cif')\n",
    "    \n"
   ]
  },
  {
   "cell_type": "code",
   "execution_count": 6,
   "id": "current-saskatchewan",
   "metadata": {},
   "outputs": [
    {
     "data": {
      "text/plain": [
       "Structure Summary\n",
       "Lattice\n",
       "    abc : 6.000458668496684 6.000458668496684 6.000459019975889\n",
       " angles : 30.43658528657143 30.43658528657143 30.436585730966858\n",
       " volume : 49.14358460581434\n",
       "      A : 5.790039 -1.575104 0.0\n",
       "      B : 5.790039 1.575104 0.0\n",
       "      C : 5.361553 0.0 2.694301\n",
       "PeriodicSite: Na (8.4708, 0.0000, 1.3472) [0.5000, 0.5000, 0.5000]\n",
       "PeriodicSite: Nb (0.0000, 0.0000, 0.0000) [0.0000, 0.0000, 0.0000]\n",
       "PeriodicSite: N (12.3950, 0.0000, 1.9712) [0.7316, 0.7316, 0.7316]\n",
       "PeriodicSite: N (4.5467, 0.0000, 0.7231) [0.2684, 0.2684, 0.2684]"
      ]
     },
     "execution_count": 6,
     "metadata": {},
     "output_type": "execute_result"
    }
   ],
   "source": [
    "structure"
   ]
  },
  {
   "cell_type": "code",
   "execution_count": null,
   "id": "middle-equilibrium",
   "metadata": {},
   "outputs": [],
   "source": []
  }
 ],
 "metadata": {
  "kernelspec": {
   "display_name": "Python 3",
   "language": "python",
   "name": "python3"
  },
  "language_info": {
   "codemirror_mode": {
    "name": "ipython",
    "version": 3
   },
   "file_extension": ".py",
   "mimetype": "text/x-python",
   "name": "python",
   "nbconvert_exporter": "python",
   "pygments_lexer": "ipython3",
   "version": "3.6.8"
  }
 },
 "nbformat": 4,
 "nbformat_minor": 5
}
